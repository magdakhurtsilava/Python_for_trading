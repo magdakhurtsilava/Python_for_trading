{
  "nbformat": 4,
  "nbformat_minor": 0,
  "metadata": {
    "colab": {
      "name": "Colours&Languages in Colab",
      "provenance": [],
      "collapsed_sections": [],
      "include_colab_link": true
    },
    "kernelspec": {
      "name": "python3",
      "display_name": "Python 3"
    },
    "language_info": {
      "name": "python"
    }
  },
  "cells": [
    {
      "cell_type": "markdown",
      "metadata": {
        "id": "view-in-github",
        "colab_type": "text"
      },
      "source": [
        "<a href=\"https://colab.research.google.com/github/magdakhurtsilava/Python_for_trading-and-collab/blob/main/Colours%26Languages_in_Colab.ipynb\" target=\"_parent\"><img src=\"https://colab.research.google.com/assets/colab-badge.svg\" alt=\"Open In Colab\"/></a>"
      ]
    },
    {
      "cell_type": "code",
      "metadata": {
        "colab": {
          "base_uri": "https://localhost:8080/"
        },
        "id": "STQM6kUdqchX",
        "outputId": "86ab163b-e85d-4596-9f9a-0cf70d0e90bc"
      },
      "source": [
        "print(\"Hello world\")"
      ],
      "execution_count": null,
      "outputs": [
        {
          "output_type": "stream",
          "name": "stdout",
          "text": [
            "Hello world\n"
          ]
        }
      ]
    },
    {
      "cell_type": "code",
      "metadata": {
        "colab": {
          "base_uri": "https://localhost:8080/"
        },
        "id": "vnUeV1a2-V25",
        "outputId": "b93e12c0-8563-483e-9722-671581eb9b79"
      },
      "source": [
        "print(\"Hello again\")"
      ],
      "execution_count": null,
      "outputs": [
        {
          "output_type": "stream",
          "name": "stdout",
          "text": [
            "Hello again\n"
          ]
        }
      ]
    },
    {
      "cell_type": "code",
      "metadata": {
        "colab": {
          "base_uri": "https://localhost:8080/"
        },
        "id": "74sEKSFYNN02",
        "outputId": "8e32f9f0-a4bd-4424-b2a3-612d0741ec0e"
      },
      "source": [
        "alien_colour = {\"colour\":\"red\",\"points\": 10}\n",
        "# print(alien_colour[\"colour\"])\n",
        "# print(alien_colour[\"points\"])\n",
        "type(alien_colour)\n",
        "Colour = alien_colour.get(\"colour\")\n",
        "print(Colour)\n",
        "Points = alien_colour.get(\"points\")\n",
        "print(Points)\n",
        "\n"
      ],
      "execution_count": null,
      "outputs": [
        {
          "output_type": "stream",
          "name": "stdout",
          "text": [
            "red\n",
            "10\n"
          ]
        }
      ]
    },
    {
      "cell_type": "code",
      "metadata": {
        "colab": {
          "base_uri": "https://localhost:8080/"
        },
        "id": "b6GVC4jTA996",
        "outputId": "2ccba4b5-7449-416f-d8e7-4b92bba357f8"
      },
      "source": [
        "n = 5 \n",
        "while n <= 50:\n",
        "  print(n)\n",
        "  n += 5\n",
        "n = 30 \n",
        "while n >= 10:\n",
        "  print(n)\n",
        "  n -= 5"
      ],
      "execution_count": null,
      "outputs": [
        {
          "output_type": "stream",
          "name": "stdout",
          "text": [
            "30\n",
            "25\n",
            "20\n",
            "15\n",
            "10\n"
          ]
        }
      ]
    },
    {
      "cell_type": "code",
      "metadata": {
        "colab": {
          "base_uri": "https://localhost:8080/"
        },
        "id": "LMPmEnraDliY",
        "outputId": "a28ce954-3d57-4f5c-f722-a837715efc30"
      },
      "source": [
        "alien_colour = {\"colour\":\"red\",\"points\": 10}\n",
        "print(alien_colour)\n",
        "alien_colour[\"X\"] = 5\n",
        "alien_colour[\"Y\"] = 10\n",
        "print(alien_colour)"
      ],
      "execution_count": null,
      "outputs": [
        {
          "output_type": "stream",
          "name": "stdout",
          "text": [
            "{'colour': 'red', 'points': 10}\n",
            "{'colour': 'red', 'points': 10, 'X': 5, 'Y': 10}\n"
          ]
        }
      ]
    },
    {
      "cell_type": "code",
      "metadata": {
        "colab": {
          "base_uri": "https://localhost:8080/"
        },
        "id": "9YWy3oOWGIk5",
        "outputId": "5d733911-338e-4150-95ca-64806efaa81e"
      },
      "source": [
        "alien_colour = {}\n",
        "alien_colour[\"colour\"] = \"blue\".title()\n",
        "alien_colour[\"points\"] = 10\n",
        "print(alien_colour)"
      ],
      "execution_count": null,
      "outputs": [
        {
          "output_type": "stream",
          "name": "stdout",
          "text": [
            "{'colour': 'Blue', 'points': 10}\n"
          ]
        }
      ]
    },
    {
      "cell_type": "code",
      "metadata": {
        "colab": {
          "base_uri": "https://localhost:8080/"
        },
        "id": "FSSzDEZlNKTo",
        "outputId": "6c719585-ab7b-4c4f-ac05-796fffa2eb23"
      },
      "source": [
        "alien_colour = {\"colour\":\"red\",\"points\": 10}\n",
        "print(alien_colour)\n",
        "alien_colour[\"colour\"] = \"blue\"\n",
        "alien_colour[\"points\"] = 20\n",
        "print(alien_colour)\n"
      ],
      "execution_count": null,
      "outputs": [
        {
          "output_type": "stream",
          "name": "stdout",
          "text": [
            "{'colour': 'red', 'points': 10}\n",
            "{'colour': 'blue', 'points': 20}\n"
          ]
        }
      ]
    },
    {
      "cell_type": "markdown",
      "metadata": {
        "id": "jI7WraE2OHz7"
      },
      "source": [
        "# deleting a value pair \n"
      ]
    },
    {
      "cell_type": "code",
      "metadata": {
        "colab": {
          "base_uri": "https://localhost:8080/"
        },
        "id": "T_2jsMOxOLn1",
        "outputId": "009d7a30-734e-4e7f-bb28-9a92a564f249"
      },
      "source": [
        "alien_colour = {\"colour\":\"red\",\"points\": 10}\n",
        "print(alien_colour)\n",
        "del alien_colour[\"points\"]\n",
        "print(alien_colour)\n"
      ],
      "execution_count": null,
      "outputs": [
        {
          "output_type": "stream",
          "name": "stdout",
          "text": [
            "{'colour': 'red', 'points': 10}\n",
            "{'colour': 'red'}\n"
          ]
        }
      ]
    },
    {
      "cell_type": "markdown",
      "metadata": {
        "id": "CbqPnfNzSbLz"
      },
      "source": [
        "\n",
        "\n",
        "# A little bit long dictionary \n"
      ]
    },
    {
      "cell_type": "code",
      "metadata": {
        "colab": {
          "base_uri": "https://localhost:8080/"
        },
        "id": "wIJE5P0GSrZw",
        "outputId": "e4028cc3-fab3-40ae-f250-2d250c415a7e"
      },
      "source": [
        "fav_languages = {\n",
        "    \"jane\": \"python\",\n",
        "    \"lucas\": \"C#\",\n",
        "    \"mary\": \"javascipt\",\n",
        "    \"show\": \"C++\"\n",
        "}\n",
        "print(fav_languages)\n",
        "\n",
        "for name, languages in fav_languages.items():\n",
        "  print(name + ': ' + languages)"
      ],
      "execution_count": null,
      "outputs": [
        {
          "output_type": "stream",
          "name": "stdout",
          "text": [
            "{'jane': 'python', 'lucas': 'C#', 'mary': 'javascipt', 'show': 'C++'}\n",
            "jane: python\n",
            "lucas: C#\n",
            "mary: javascipt\n",
            "show: C++\n"
          ]
        }
      ]
    },
    {
      "cell_type": "code",
      "metadata": {
        "colab": {
          "base_uri": "https://localhost:8080/"
        },
        "id": "CpNk32-gXPkd",
        "outputId": "85db9b28-f79a-43bf-dcb0-5d5f6b152423"
      },
      "source": [
        "fav_languages = {\n",
        "    \"jane\": \"python\",\n",
        "    \"lucas\": \"C#\",\n",
        "    \"mary\": \"javascipt\",\n",
        "    \"show\": \"C++\"\n",
        "}\n",
        "print(fav_languages)\n",
        "\n",
        "for language in fav_languages.values():\n",
        "  print(language)\n",
        "for name in fav_languages.keys():\n",
        "  print(name)"
      ],
      "execution_count": null,
      "outputs": [
        {
          "output_type": "stream",
          "name": "stdout",
          "text": [
            "{'jane': 'python', 'lucas': 'C#', 'mary': 'javascipt', 'show': 'C++'}\n",
            "python\n",
            "C#\n",
            "javascipt\n",
            "C++\n",
            "jane\n",
            "lucas\n",
            "mary\n",
            "show\n"
          ]
        }
      ]
    },
    {
      "cell_type": "markdown",
      "metadata": {
        "id": "Z8NJjpYtbA63"
      },
      "source": [
        "# Dictionary length"
      ]
    },
    {
      "cell_type": "code",
      "metadata": {
        "colab": {
          "base_uri": "https://localhost:8080/"
        },
        "id": "N2dUQKAtbHym",
        "outputId": "fe9b4451-76ee-4de1-d791-e84028f34d50"
      },
      "source": [
        "fav_languages = {\n",
        "    \"jane\": \"python\",\n",
        "    \"lucas\": \"C#\",\n",
        "    \"mary\": \"javascipt\",\n",
        "    \"show\": \"C++\"\n",
        "}\n",
        "num_responces = len(fav_languages)\n",
        "num_responces"
      ],
      "execution_count": null,
      "outputs": [
        {
          "output_type": "execute_result",
          "data": {
            "text/plain": [
              "4"
            ]
          },
          "metadata": {},
          "execution_count": 36
        }
      ]
    },
    {
      "cell_type": "markdown",
      "metadata": {
        "id": "3bpNPSmfbn7P"
      },
      "source": [
        "# Nesting dictionary "
      ]
    },
    {
      "cell_type": "code",
      "metadata": {
        "colab": {
          "base_uri": "https://localhost:8080/"
        },
        "id": "BnfXTdC1bqlU",
        "outputId": "5c681583-c9ca-41f2-c2d4-f91091fadba8"
      },
      "source": [
        "users = []\n",
        "\n",
        "new_user = {\n",
        "  \"first_name\": \"jovani\",\n",
        "  \"last_name\": \"bocacho\",\n",
        "  \"username\": \"Jbocacho\"\n",
        "}\n",
        "users.append(new_user)\n",
        "print(users)\n",
        "new_user = {\n",
        "    \"first_name\": \"leonardo\",\n",
        "    \"last_name\": \"davinci\",\n",
        "    \"username\": \"Ldavinci\"\n",
        "}\n",
        "users.append(new_user)\n",
        "print(users)"
      ],
      "execution_count": null,
      "outputs": [
        {
          "output_type": "stream",
          "name": "stdout",
          "text": [
            "[{'first_name': 'jovani', 'last_name': 'bocacho', 'username': 'Jbocacho'}]\n",
            "[{'first_name': 'jovani', 'last_name': 'bocacho', 'username': 'Jbocacho'}, {'first_name': 'leonardo', 'last_name': 'davinci', 'username': 'Ldavinci'}]\n"
          ]
        }
      ]
    },
    {
      "cell_type": "markdown",
      "metadata": {
        "id": "YmlyPn7PfApx"
      },
      "source": [
        "# for loop in for loop\n"
      ]
    },
    {
      "cell_type": "code",
      "metadata": {
        "colab": {
          "base_uri": "https://localhost:8080/"
        },
        "id": "YCimZ5Eze7ex",
        "outputId": "fe5f8f7d-b3b5-4ed2-81bd-aa2820500556"
      },
      "source": [
        "users = []\n",
        "\n",
        "new_user = {\n",
        "  \"first_name\": \"jovani\",\n",
        "  \"last_name\": \"bocacho\",\n",
        "  \"username\": \"Jbocacho\"\n",
        "}\n",
        "users.append(new_user)\n",
        "\n",
        "new_user = {\n",
        "    \"first_name\": \"leonardo\",\n",
        "    \"last_name\": \"davinci\",\n",
        "    \"username\": \"Ldavinci\"\n",
        "}\n",
        "users.append(new_user)\n",
        "\n",
        "for user_dict in users:\n",
        "  for k, v in user_dict.items():\n",
        "    print(k + \": \" + v)\n",
        "  print(\"\\n\")"
      ],
      "execution_count": null,
      "outputs": [
        {
          "output_type": "stream",
          "name": "stdout",
          "text": [
            "first_name: jovani\n",
            "last_name: bocacho\n",
            "username: Jbocacho\n",
            "\n",
            "\n",
            "first_name: leonardo\n",
            "last_name: davinci\n",
            "username: Ldavinci\n",
            "\n",
            "\n"
          ]
        }
      ]
    },
    {
      "cell_type": "markdown",
      "metadata": {
        "id": "P6I1D-mze7Ip"
      },
      "source": [
        "# storing lists in dictionary\n",
        "\n",
        "\n"
      ]
    },
    {
      "cell_type": "code",
      "metadata": {
        "colab": {
          "base_uri": "https://localhost:8080/"
        },
        "id": "LsoIjI_Apsr5",
        "outputId": "29b62a0c-cb38-4404-baae-1dac18546b78"
      },
      "source": [
        "fav_languages = {\n",
        "    \"sara\": [\"python\",\"C#\"],\n",
        "    \"jonas\":[\"java\",\"python\"],\n",
        "    \"george\":[\"C++\"],\n",
        "    \"lucas\":[\"SQL\",\"C\"]\n",
        "}\n",
        "\n",
        "for name, LANGS in fav_languages.items():\n",
        "  print(name + \":\")\n",
        "  for LANG in LANGS:\n",
        "    print(\"-\" + LANG)\n",
        "  print(\"\\n\")"
      ],
      "execution_count": null,
      "outputs": [
        {
          "output_type": "stream",
          "name": "stdout",
          "text": [
            "sara:\n",
            "-python\n",
            "-C#\n",
            "\n",
            "\n",
            "jonas:\n",
            "-java\n",
            "-python\n",
            "\n",
            "\n",
            "george:\n",
            "-C++\n",
            "\n",
            "\n",
            "lucas:\n",
            "-SQL\n",
            "-C\n",
            "\n",
            "\n"
          ]
        }
      ]
    },
    {
      "cell_type": "code",
      "metadata": {
        "colab": {
          "base_uri": "https://localhost:8080/"
        },
        "id": "XE9ft_i1ClcL",
        "outputId": "d43018d5-bf82-42e5-c5fd-867560c7e432"
      },
      "source": [
        "# car = \"buggati\"\n",
        "# car == \"buggati\"\n",
        "\n",
        "# car = \"Mclaren\"\n",
        "# car.lower() == \"mclaren\"\n",
        "\n",
        "car = 'BMW'\n",
        "car != 'BMW' \n"
      ],
      "execution_count": null,
      "outputs": [
        {
          "output_type": "execute_result",
          "data": {
            "text/plain": [
              "False"
            ]
          },
          "metadata": {},
          "execution_count": 13
        }
      ]
    },
    {
      "cell_type": "code",
      "metadata": {
        "colab": {
          "base_uri": "https://localhost:8080/"
        },
        "id": "nZVFWWVaQKZh",
        "outputId": "dea9f278-d79f-4b27-988f-92e3271336bc"
      },
      "source": [
        "age = 10\n",
        "age_2 = 20\n",
        "\n",
        "age > 5 and age_2 >= 21\n",
        " "
      ],
      "execution_count": null,
      "outputs": [
        {
          "output_type": "execute_result",
          "data": {
            "text/plain": [
              "False"
            ]
          },
          "metadata": {},
          "execution_count": 20
        }
      ]
    },
    {
      "cell_type": "code",
      "metadata": {
        "colab": {
          "base_uri": "https://localhost:8080/"
        },
        "id": "AXAkwJdOSR_g",
        "outputId": "0528fc8a-c48f-4159-a3d0-1218d3ae2056"
      },
      "source": [
        "age >= 15 \n",
        "age_2 > 30 \n",
        "\n",
        "age < 5 or age_2 >= 29 \n",
        "\n"
      ],
      "execution_count": null,
      "outputs": [
        {
          "output_type": "execute_result",
          "data": {
            "text/plain": [
              "False"
            ]
          },
          "metadata": {},
          "execution_count": 27
        }
      ]
    },
    {
      "cell_type": "code",
      "metadata": {
        "colab": {
          "base_uri": "https://localhost:8080/"
        },
        "id": "qr0vGkv0ujYh",
        "outputId": "383cf880-f182-4c12-9022-0eed9606f86c"
      },
      "source": [
        "age = 23 \n",
        "if age >= 18:\n",
        "  print(\"You have the permission to enter this club\")\n"
      ],
      "execution_count": null,
      "outputs": [
        {
          "output_type": "stream",
          "name": "stdout",
          "text": [
            "You have the permission to enter this club\n"
          ]
        }
      ]
    },
    {
      "cell_type": "code",
      "metadata": {
        "colab": {
          "base_uri": "https://localhost:8080/"
        },
        "id": "gmeGQH2uwG9p",
        "outputId": "aefddfd3-13ed-4156-9984-55eae19f2ae7"
      },
      "source": [
        "age = 20 \n",
        "if age >= 18:\n",
        "  print(\"Come\")\n",
        "else:\n",
        "  print(\"You can go\")"
      ],
      "execution_count": null,
      "outputs": [
        {
          "output_type": "stream",
          "name": "stdout",
          "text": [
            "Come\n"
          ]
        }
      ]
    },
    {
      "cell_type": "code",
      "metadata": {
        "id": "aUCxIRFcwS0I"
      },
      "source": [
        ""
      ],
      "execution_count": null,
      "outputs": []
    },
    {
      "cell_type": "code",
      "metadata": {
        "colab": {
          "base_uri": "https://localhost:8080/"
        },
        "id": "G2fAkNI0x6tQ",
        "outputId": "db753d17-ec12-4223-fd19-276e1bb64f5f"
      },
      "source": [
        "age = 25\n",
        "if age < 20:\n",
        "  price = 15\n",
        "elif age < 15:\n",
        "  price = 10\n",
        "elif age < 10:\n",
        "  price = 5 \n",
        "else:\n",
        "  price = 25 \n",
        "\n",
        "print(\"\\nEntry price is $\" + str(price) + \".\")"
      ],
      "execution_count": null,
      "outputs": [
        {
          "output_type": "stream",
          "name": "stdout",
          "text": [
            "\n",
            "Entry price is $25.\n"
          ]
        }
      ]
    },
    {
      "cell_type": "code",
      "metadata": {
        "colab": {
          "base_uri": "https://localhost:8080/"
        },
        "id": "lvVro3Xczdk3",
        "outputId": "0ded186f-945e-4233-e2a2-03db8f7f86cf"
      },
      "source": [
        "Letters = [\"A\",\"B\",\"C\",\"D\"]\n",
        "\n",
        "\"A\" in Letters\n",
        "\n",
        "prohibited_letters = [\"N\",\"M\"]\n",
        "\n",
        "if \"A\" not in prohibited_letters:\n",
        "  print(\"Awesome\")"
      ],
      "execution_count": null,
      "outputs": [
        {
          "output_type": "stream",
          "name": "stdout",
          "text": [
            "Awesome\n"
          ]
        }
      ]
    },
    {
      "cell_type": "code",
      "metadata": {
        "id": "gBlDQOo4ztj9"
      },
      "source": [
        "footballers = [\"Messi\"]"
      ],
      "execution_count": null,
      "outputs": []
    },
    {
      "cell_type": "code",
      "metadata": {
        "colab": {
          "base_uri": "https://localhost:8080/"
        },
        "id": "GeT1AijI1EyX",
        "outputId": "c068646f-ed3e-499f-ba31-a044669ebf85"
      },
      "source": [
        "if footballers:\n",
        "  for footballer in footballers:\n",
        "    print(\"We have enough quantity of footballers\")\n",
        "else:\n",
        "   print(\"We're still searching footballers\")   \n"
      ],
      "execution_count": null,
      "outputs": [
        {
          "output_type": "stream",
          "name": "stdout",
          "text": [
            "We have enough quantity of footballers\n"
          ]
        }
      ]
    },
    {
      "cell_type": "code",
      "metadata": {
        "colab": {
          "base_uri": "https://localhost:8080/"
        },
        "id": "Hh8eBhif2WbK",
        "outputId": "e8a4d7ea-8c84-4d04-9401-4cfdfee562b7"
      },
      "source": [
        "name = input(\"What's your name?\")"
      ],
      "execution_count": null,
      "outputs": [
        {
          "name": "stdout",
          "output_type": "stream",
          "text": [
            "What's your name?Giorgi\n"
          ]
        }
      ]
    },
    {
      "cell_type": "code",
      "metadata": {
        "colab": {
          "base_uri": "https://localhost:8080/"
        },
        "id": "tf20Sldi2tSy",
        "outputId": "bb572865-b3b4-40e2-c785-4689aaec42c5"
      },
      "source": [
        "print(name)"
      ],
      "execution_count": null,
      "outputs": [
        {
          "output_type": "stream",
          "name": "stdout",
          "text": [
            "Giorgi\n"
          ]
        }
      ]
    },
    {
      "cell_type": "code",
      "metadata": {
        "colab": {
          "base_uri": "https://localhost:8080/"
        },
        "id": "hJvsweZZ3U69",
        "outputId": "2d816c88-7e9a-405e-b30c-ef017c641bc3"
      },
      "source": [
        "mobile_number = input(\"Here you can write your mobile number:\")"
      ],
      "execution_count": null,
      "outputs": [
        {
          "name": "stdout",
          "output_type": "stream",
          "text": [
            "Here you can write your mobile number:599-999-999\n"
          ]
        }
      ]
    },
    {
      "cell_type": "code",
      "metadata": {
        "colab": {
          "base_uri": "https://localhost:8080/"
        },
        "id": "htsqqAEG3hYG",
        "outputId": "a8dca80a-0241-4a95-a879-35614aefc961"
      },
      "source": [
        "print(mobile_number)"
      ],
      "execution_count": null,
      "outputs": [
        {
          "output_type": "stream",
          "name": "stdout",
          "text": [
            "599-999-999\n"
          ]
        }
      ]
    },
    {
      "cell_type": "code",
      "metadata": {
        "colab": {
          "base_uri": "https://localhost:8080/"
        },
        "id": "hYwK6x5L3pfl",
        "outputId": "a9747c8a-19c2-413f-e502-ed549e33cf7a"
      },
      "source": [
        "current_value = 1 \n",
        "while current_value <= 5: \n",
        "    print(current_value) \n",
        "    current_value += 1 "
      ],
      "execution_count": null,
      "outputs": [
        {
          "output_type": "stream",
          "name": "stdout",
          "text": [
            "1\n",
            "2\n",
            "3\n",
            "4\n",
            "5\n"
          ]
        }
      ]
    },
    {
      "cell_type": "code",
      "metadata": {
        "colab": {
          "base_uri": "https://localhost:8080/"
        },
        "id": "-3QXE8t0woCb",
        "outputId": "a96110b2-3d20-49d4-fc37-4b77004c8dc8"
      },
      "source": [
        "promt = \"Here you can ask the question \"\n",
        "promt += \"  and program will answer you immediately.\"\n",
        "promt += \"Untill you ask \\\"where is my money?\"\" , you cant shut down the program.\"\n",
        "message = \"\"\n",
        "while message != \"Where is my money?\":\n",
        "  message = input(promt)\n",
        "  if message != \"Where is my money?\":\n",
        "    print(message)\n"
      ],
      "execution_count": null,
      "outputs": [
        {
          "name": "stdout",
          "output_type": "stream",
          "text": [
            "Here you can ask the question   and program will answer you immediately.Untill you ask \"where is my money? , you cant shut down the program.Where is my money?\n"
          ]
        }
      ]
    },
    {
      "cell_type": "code",
      "metadata": {
        "colab": {
          "base_uri": "https://localhost:8080/"
        },
        "id": "rWxRRTYUzbSO",
        "outputId": "d78fed82-97e0-496e-8eaf-70282df4f1e7"
      },
      "source": [
        "promt = \"Here you can ask the question \"\n",
        "promt += \"  and program will answer you immediately.\"\n",
        "promt += \"Untill you ask \\\"where is my money?\"\" , you cant shut down the program.\"\n",
        "message = True\n",
        "\n",
        "while message:\n",
        "  message = input(promt)\n",
        "  \n",
        "  if message == \"Ask\":\n",
        "    message = False\n",
        "  else:\n",
        "    print(message)"
      ],
      "execution_count": null,
      "outputs": [
        {
          "name": "stdout",
          "output_type": "stream",
          "text": [
            "Here you can ask the question   and program will answer you immediately.Untill you ask \"where is my money? , you cant shut down the program.hee]\n",
            "hee]\n",
            "Here you can ask the question   and program will answer you immediately.Untill you ask \"where is my money? , you cant shut down the program.Ask\n"
          ]
        }
      ]
    },
    {
      "cell_type": "code",
      "metadata": {
        "colab": {
          "base_uri": "https://localhost:8080/"
        },
        "id": "WP8EQPPa9Ra3",
        "outputId": "d2c1cd7c-03e1-488b-fa64-f9ad9f45df7b"
      },
      "source": [
        "promt = \"What citys have you visited\"\n",
        "promt += \"\\nEnter 'Quit' when you are done.>>>\" \n",
        "\n",
        "while True:\n",
        "  city = input(promt)\n",
        "\n",
        "  if city == \"Quit\":\n",
        "    break\n",
        "  else:\n",
        "    print(\"I have been to \" + city + \".\")"
      ],
      "execution_count": null,
      "outputs": [
        {
          "name": "stdout",
          "output_type": "stream",
          "text": [
            "What citys have you visited\n",
            "Enter 'Quit' when you are done.>>>London\n",
            "I have been to London.\n",
            "What citys have you visited\n",
            "Enter 'Quit' when you are done.>>>Madrid\n",
            "I have been to Madrid.\n",
            "What citys have you visited\n",
            "Enter 'Quit' when you are done.>>>Quit \n",
            "I have been to Quit .\n",
            "What citys have you visited\n",
            "Enter 'Quit' when you are done.>>>Quit\n"
          ]
        }
      ]
    },
    {
      "cell_type": "code",
      "metadata": {
        "colab": {
          "base_uri": "https://localhost:8080/"
        },
        "id": "JMUIqSIIB3Tm",
        "outputId": "7608a517-2f07-4209-de49-b845962d2898"
      },
      "source": [
        "Banned_users = [\"mak\",\"zac\",\"stark\"]\n",
        "\n",
        "promt = \"Add player in your team\"\n",
        "promt += \"\\nEnter 'quit' when you are done\"\n",
        "\n",
        "players = []\n",
        "\n",
        "while True:\n",
        "  player = input(promt)\n",
        "  if player == \"quit\":\n",
        "    break\n",
        "  elif player in Banned_users:\n",
        "    print(player + \"is banned\")\n",
        "    continue\n",
        "  else:\n",
        "    players.append(player)\n",
        "    print(player)\n",
        "\n",
        "print(\"\\nYour team list:\")\n",
        "for player in players:\n",
        "  print(player)"
      ],
      "execution_count": null,
      "outputs": [
        {
          "output_type": "stream",
          "name": "stdout",
          "text": [
            "Add player in your team\n",
            "Enter 'quit' when you are donemichael\n",
            "michael\n",
            "Add player in your team\n",
            "Enter 'quit' when you are donesara\n",
            "sara\n",
            "Add player in your team\n",
            "Enter 'quit' when you are donemak\n",
            "makis banned\n",
            "Add player in your team\n",
            "Enter 'quit' when you are doneloran\n",
            "loran\n",
            "Add player in your team\n",
            "Enter 'quit' when you are donequit\n",
            "\n",
            "Your team list:\n",
            "michael\n",
            "sara\n",
            "loran\n"
          ]
        }
      ]
    },
    {
      "cell_type": "code",
      "metadata": {
        "colab": {
          "base_uri": "https://localhost:8080/"
        },
        "id": "dHJmzv7rS1yO",
        "outputId": "ac835e4e-5399-478f-ac00-843612596fd5"
      },
      "source": [
        "promt = \"Here you can enter\"\n",
        "promt += \"a series of toppings>>>\"\n",
        "\n",
        "message = True\n",
        "\n",
        "while message:\n",
        "    message = input(promt)\n",
        "    if message == \"Quit\":\n",
        "        break\n",
        "    else:    \n",
        "    \n",
        "        print(\"you’ll add that topping to their pizza.\")"
      ],
      "execution_count": null,
      "outputs": [
        {
          "name": "stdout",
          "output_type": "stream",
          "text": [
            "Here you can entera series of toppings>>>Quit\n"
          ]
        }
      ]
    }
  ]
}