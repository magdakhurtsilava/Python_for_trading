{
  "nbformat": 4,
  "nbformat_minor": 0,
  "metadata": {
    "colab": {
      "name": "Copy of Portfolio_optimization.ipynb",
      "provenance": [],
      "collapsed_sections": [],
      "include_colab_link": true
    },
    "kernelspec": {
      "name": "python3",
      "display_name": "Python 3"
    },
    "language_info": {
      "name": "python"
    }
  },
  "cells": [
    {
      "cell_type": "markdown",
      "metadata": {
        "id": "view-in-github",
        "colab_type": "text"
      },
      "source": [
        "<a href=\"https://colab.research.google.com/github/magdakhurtsilava/Python_for_trading/blob/main/_Portfolio_optimization.ipynb\" target=\"_parent\"><img src=\"https://colab.research.google.com/assets/colab-badge.svg\" alt=\"Open In Colab\"/></a>"
      ]
    },
    {
      "cell_type": "code",
      "source": [
        "import yfinance as yf\n",
        "import datetime as dt \n",
        "import pandas as pd \n",
        "import numpy as np\n"
      ],
      "metadata": {
        "id": "U6GMN1TS4-W-"
      },
      "execution_count": null,
      "outputs": []
    },
    {
      "cell_type": "markdown",
      "source": [
        "# download data"
      ],
      "metadata": {
        "id": "1H3_ODHWjO3u"
      }
    },
    {
      "cell_type": "code",
      "source": [
        "symbols = [\"AAPL\", \"FB\"]\n",
        "df = yf.download(symbols,start= \"2018-01-01\",end=\"2020-01-01\",interval=\"1mo\")[\"Adj Close\"].dropna()\n"
      ],
      "metadata": {
        "colab": {
          "base_uri": "https://localhost:8080/"
        },
        "id": "b9kY4x345F99",
        "outputId": "b1365089-4d1f-4be7-81c1-ef7c1cd421c8"
      },
      "execution_count": null,
      "outputs": [
        {
          "output_type": "stream",
          "name": "stdout",
          "text": [
            "[*********************100%***********************]  2 of 2 completed\n"
          ]
        }
      ]
    },
    {
      "cell_type": "code",
      "source": [
        "df"
      ],
      "metadata": {
        "colab": {
          "base_uri": "https://localhost:8080/",
          "height": 833
        },
        "id": "sK6UVaQt9S30",
        "outputId": "05b1dbff-c07e-4554-8fdd-561dbf6b67cb"
      },
      "execution_count": null,
      "outputs": [
        {
          "output_type": "execute_result",
          "data": {
            "text/html": [
              "\n",
              "  <div id=\"df-bf1de468-050b-429e-bf79-54e134137b1a\">\n",
              "    <div class=\"colab-df-container\">\n",
              "      <div>\n",
              "<style scoped>\n",
              "    .dataframe tbody tr th:only-of-type {\n",
              "        vertical-align: middle;\n",
              "    }\n",
              "\n",
              "    .dataframe tbody tr th {\n",
              "        vertical-align: top;\n",
              "    }\n",
              "\n",
              "    .dataframe thead th {\n",
              "        text-align: right;\n",
              "    }\n",
              "</style>\n",
              "<table border=\"1\" class=\"dataframe\">\n",
              "  <thead>\n",
              "    <tr style=\"text-align: right;\">\n",
              "      <th></th>\n",
              "      <th>AAPL</th>\n",
              "      <th>FB</th>\n",
              "    </tr>\n",
              "    <tr>\n",
              "      <th>Date</th>\n",
              "      <th></th>\n",
              "      <th></th>\n",
              "    </tr>\n",
              "  </thead>\n",
              "  <tbody>\n",
              "    <tr>\n",
              "      <th>2018-01-01</th>\n",
              "      <td>40.033</td>\n",
              "      <td>186.89</td>\n",
              "    </tr>\n",
              "    <tr>\n",
              "      <th>2018-02-01</th>\n",
              "      <td>42.589</td>\n",
              "      <td>178.32</td>\n",
              "    </tr>\n",
              "    <tr>\n",
              "      <th>2018-03-01</th>\n",
              "      <td>40.281</td>\n",
              "      <td>159.79</td>\n",
              "    </tr>\n",
              "    <tr>\n",
              "      <th>2018-04-01</th>\n",
              "      <td>39.676</td>\n",
              "      <td>172.0</td>\n",
              "    </tr>\n",
              "    <tr>\n",
              "      <th>2018-05-01</th>\n",
              "      <td>44.864</td>\n",
              "      <td>191.78</td>\n",
              "    </tr>\n",
              "    <tr>\n",
              "      <th>2018-06-01</th>\n",
              "      <td>44.612</td>\n",
              "      <td>194.32</td>\n",
              "    </tr>\n",
              "    <tr>\n",
              "      <th>2018-07-01</th>\n",
              "      <td>45.861</td>\n",
              "      <td>172.58</td>\n",
              "    </tr>\n",
              "    <tr>\n",
              "      <th>2018-08-01</th>\n",
              "      <td>54.86</td>\n",
              "      <td>175.73</td>\n",
              "    </tr>\n",
              "    <tr>\n",
              "      <th>2018-09-01</th>\n",
              "      <td>54.595</td>\n",
              "      <td>164.46</td>\n",
              "    </tr>\n",
              "    <tr>\n",
              "      <th>2018-10-01</th>\n",
              "      <td>52.931</td>\n",
              "      <td>151.79</td>\n",
              "    </tr>\n",
              "    <tr>\n",
              "      <th>2018-11-01</th>\n",
              "      <td>43.19</td>\n",
              "      <td>140.61</td>\n",
              "    </tr>\n",
              "    <tr>\n",
              "      <th>2018-12-01</th>\n",
              "      <td>38.283</td>\n",
              "      <td>131.09</td>\n",
              "    </tr>\n",
              "    <tr>\n",
              "      <th>2019-01-01</th>\n",
              "      <td>40.394</td>\n",
              "      <td>166.69</td>\n",
              "    </tr>\n",
              "    <tr>\n",
              "      <th>2019-02-01</th>\n",
              "      <td>42.023</td>\n",
              "      <td>161.45</td>\n",
              "    </tr>\n",
              "    <tr>\n",
              "      <th>2019-03-01</th>\n",
              "      <td>46.298</td>\n",
              "      <td>166.69</td>\n",
              "    </tr>\n",
              "    <tr>\n",
              "      <th>2019-04-01</th>\n",
              "      <td>48.91</td>\n",
              "      <td>193.4</td>\n",
              "    </tr>\n",
              "    <tr>\n",
              "      <th>2019-05-01</th>\n",
              "      <td>42.671</td>\n",
              "      <td>177.47</td>\n",
              "    </tr>\n",
              "    <tr>\n",
              "      <th>2019-06-01</th>\n",
              "      <td>48.426</td>\n",
              "      <td>193.0</td>\n",
              "    </tr>\n",
              "    <tr>\n",
              "      <th>2019-07-01</th>\n",
              "      <td>52.125</td>\n",
              "      <td>194.23</td>\n",
              "    </tr>\n",
              "    <tr>\n",
              "      <th>2019-08-01</th>\n",
              "      <td>51.073</td>\n",
              "      <td>185.67</td>\n",
              "    </tr>\n",
              "    <tr>\n",
              "      <th>2019-09-01</th>\n",
              "      <td>55.008</td>\n",
              "      <td>178.08</td>\n",
              "    </tr>\n",
              "    <tr>\n",
              "      <th>2019-10-01</th>\n",
              "      <td>61.096</td>\n",
              "      <td>191.65</td>\n",
              "    </tr>\n",
              "    <tr>\n",
              "      <th>2019-11-01</th>\n",
              "      <td>65.638</td>\n",
              "      <td>201.64</td>\n",
              "    </tr>\n",
              "    <tr>\n",
              "      <th>2019-12-01</th>\n",
              "      <td>72.338</td>\n",
              "      <td>205.25</td>\n",
              "    </tr>\n",
              "  </tbody>\n",
              "</table>\n",
              "</div>\n",
              "      <button class=\"colab-df-convert\" onclick=\"convertToInteractive('df-bf1de468-050b-429e-bf79-54e134137b1a')\"\n",
              "              title=\"Convert this dataframe to an interactive table.\"\n",
              "              style=\"display:none;\">\n",
              "        \n",
              "  <svg xmlns=\"http://www.w3.org/2000/svg\" height=\"24px\"viewBox=\"0 0 24 24\"\n",
              "       width=\"24px\">\n",
              "    <path d=\"M0 0h24v24H0V0z\" fill=\"none\"/>\n",
              "    <path d=\"M18.56 5.44l.94 2.06.94-2.06 2.06-.94-2.06-.94-.94-2.06-.94 2.06-2.06.94zm-11 1L8.5 8.5l.94-2.06 2.06-.94-2.06-.94L8.5 2.5l-.94 2.06-2.06.94zm10 10l.94 2.06.94-2.06 2.06-.94-2.06-.94-.94-2.06-.94 2.06-2.06.94z\"/><path d=\"M17.41 7.96l-1.37-1.37c-.4-.4-.92-.59-1.43-.59-.52 0-1.04.2-1.43.59L10.3 9.45l-7.72 7.72c-.78.78-.78 2.05 0 2.83L4 21.41c.39.39.9.59 1.41.59.51 0 1.02-.2 1.41-.59l7.78-7.78 2.81-2.81c.8-.78.8-2.07 0-2.86zM5.41 20L4 18.59l7.72-7.72 1.47 1.35L5.41 20z\"/>\n",
              "  </svg>\n",
              "      </button>\n",
              "      \n",
              "  <style>\n",
              "    .colab-df-container {\n",
              "      display:flex;\n",
              "      flex-wrap:wrap;\n",
              "      gap: 12px;\n",
              "    }\n",
              "\n",
              "    .colab-df-convert {\n",
              "      background-color: #E8F0FE;\n",
              "      border: none;\n",
              "      border-radius: 50%;\n",
              "      cursor: pointer;\n",
              "      display: none;\n",
              "      fill: #1967D2;\n",
              "      height: 32px;\n",
              "      padding: 0 0 0 0;\n",
              "      width: 32px;\n",
              "    }\n",
              "\n",
              "    .colab-df-convert:hover {\n",
              "      background-color: #E2EBFA;\n",
              "      box-shadow: 0px 1px 2px rgba(60, 64, 67, 0.3), 0px 1px 3px 1px rgba(60, 64, 67, 0.15);\n",
              "      fill: #174EA6;\n",
              "    }\n",
              "\n",
              "    [theme=dark] .colab-df-convert {\n",
              "      background-color: #3B4455;\n",
              "      fill: #D2E3FC;\n",
              "    }\n",
              "\n",
              "    [theme=dark] .colab-df-convert:hover {\n",
              "      background-color: #434B5C;\n",
              "      box-shadow: 0px 1px 3px 1px rgba(0, 0, 0, 0.15);\n",
              "      filter: drop-shadow(0px 1px 2px rgba(0, 0, 0, 0.3));\n",
              "      fill: #FFFFFF;\n",
              "    }\n",
              "  </style>\n",
              "\n",
              "      <script>\n",
              "        const buttonEl =\n",
              "          document.querySelector('#df-bf1de468-050b-429e-bf79-54e134137b1a button.colab-df-convert');\n",
              "        buttonEl.style.display =\n",
              "          google.colab.kernel.accessAllowed ? 'block' : 'none';\n",
              "\n",
              "        async function convertToInteractive(key) {\n",
              "          const element = document.querySelector('#df-bf1de468-050b-429e-bf79-54e134137b1a');\n",
              "          const dataTable =\n",
              "            await google.colab.kernel.invokeFunction('convertToInteractive',\n",
              "                                                     [key], {});\n",
              "          if (!dataTable) return;\n",
              "\n",
              "          const docLinkHtml = 'Like what you see? Visit the ' +\n",
              "            '<a target=\"_blank\" href=https://colab.research.google.com/notebooks/data_table.ipynb>data table notebook</a>'\n",
              "            + ' to learn more about interactive tables.';\n",
              "          element.innerHTML = '';\n",
              "          dataTable['output_type'] = 'display_data';\n",
              "          await google.colab.output.renderOutput(dataTable, element);\n",
              "          const docLink = document.createElement('div');\n",
              "          docLink.innerHTML = docLinkHtml;\n",
              "          element.appendChild(docLink);\n",
              "        }\n",
              "      </script>\n",
              "    </div>\n",
              "  </div>\n",
              "  "
            ],
            "text/plain": [
              "             AAPL     FB\n",
              "Date                    \n",
              "2018-01-01 40.033 186.89\n",
              "2018-02-01 42.589 178.32\n",
              "2018-03-01 40.281 159.79\n",
              "2018-04-01 39.676  172.0\n",
              "2018-05-01 44.864 191.78\n",
              "2018-06-01 44.612 194.32\n",
              "2018-07-01 45.861 172.58\n",
              "2018-08-01  54.86 175.73\n",
              "2018-09-01 54.595 164.46\n",
              "2018-10-01 52.931 151.79\n",
              "2018-11-01  43.19 140.61\n",
              "2018-12-01 38.283 131.09\n",
              "2019-01-01 40.394 166.69\n",
              "2019-02-01 42.023 161.45\n",
              "2019-03-01 46.298 166.69\n",
              "2019-04-01  48.91  193.4\n",
              "2019-05-01 42.671 177.47\n",
              "2019-06-01 48.426  193.0\n",
              "2019-07-01 52.125 194.23\n",
              "2019-08-01 51.073 185.67\n",
              "2019-09-01 55.008 178.08\n",
              "2019-10-01 61.096 191.65\n",
              "2019-11-01 65.638 201.64\n",
              "2019-12-01 72.338 205.25"
            ]
          },
          "metadata": {},
          "execution_count": 175
        }
      ]
    },
    {
      "cell_type": "markdown",
      "source": [
        "#Adding return columns - "
      ],
      "metadata": {
        "id": "UWpgJuIj_V67"
      }
    },
    {
      "cell_type": "code",
      "source": [
        "def add_return_columns(symbols):\n",
        "  pd.options.display.float_format = '{:.5}'.format\n",
        "  for symbol in symbols:\n",
        "    df[f\"{symbol} return\"] = df[symbol] / df[symbol].shift(1)- 1"
      ],
      "metadata": {
        "id": "SfraIPCT9mnO"
      },
      "execution_count": null,
      "outputs": []
    },
    {
      "cell_type": "code",
      "source": [
        "add_return_columns(symbols)"
      ],
      "metadata": {
        "id": "RLkKe9cGGP0e"
      },
      "execution_count": null,
      "outputs": []
    },
    {
      "cell_type": "code",
      "source": [
        "df.dropna()"
      ],
      "metadata": {
        "colab": {
          "base_uri": "https://localhost:8080/",
          "height": 801
        },
        "id": "MVX7uR2rGSaE",
        "outputId": "fdc05598-d8aa-4dc3-bf26-0fe5a4c25409"
      },
      "execution_count": null,
      "outputs": [
        {
          "output_type": "execute_result",
          "data": {
            "text/html": [
              "\n",
              "  <div id=\"df-851a388d-6377-442c-8c04-14eb641bf3e3\">\n",
              "    <div class=\"colab-df-container\">\n",
              "      <div>\n",
              "<style scoped>\n",
              "    .dataframe tbody tr th:only-of-type {\n",
              "        vertical-align: middle;\n",
              "    }\n",
              "\n",
              "    .dataframe tbody tr th {\n",
              "        vertical-align: top;\n",
              "    }\n",
              "\n",
              "    .dataframe thead th {\n",
              "        text-align: right;\n",
              "    }\n",
              "</style>\n",
              "<table border=\"1\" class=\"dataframe\">\n",
              "  <thead>\n",
              "    <tr style=\"text-align: right;\">\n",
              "      <th></th>\n",
              "      <th>AAPL</th>\n",
              "      <th>FB</th>\n",
              "      <th>AAPL return</th>\n",
              "      <th>FB return</th>\n",
              "    </tr>\n",
              "    <tr>\n",
              "      <th>Date</th>\n",
              "      <th></th>\n",
              "      <th></th>\n",
              "      <th></th>\n",
              "      <th></th>\n",
              "    </tr>\n",
              "  </thead>\n",
              "  <tbody>\n",
              "    <tr>\n",
              "      <th>2018-02-01</th>\n",
              "      <td>42.589</td>\n",
              "      <td>178.32</td>\n",
              "      <td>0.063848</td>\n",
              "      <td>-0.045856</td>\n",
              "    </tr>\n",
              "    <tr>\n",
              "      <th>2018-03-01</th>\n",
              "      <td>40.281</td>\n",
              "      <td>159.79</td>\n",
              "      <td>-0.05421</td>\n",
              "      <td>-0.10391</td>\n",
              "    </tr>\n",
              "    <tr>\n",
              "      <th>2018-04-01</th>\n",
              "      <td>39.676</td>\n",
              "      <td>172.0</td>\n",
              "      <td>-0.015019</td>\n",
              "      <td>0.076413</td>\n",
              "    </tr>\n",
              "    <tr>\n",
              "      <th>2018-05-01</th>\n",
              "      <td>44.864</td>\n",
              "      <td>191.78</td>\n",
              "      <td>0.13076</td>\n",
              "      <td>0.115</td>\n",
              "    </tr>\n",
              "    <tr>\n",
              "      <th>2018-06-01</th>\n",
              "      <td>44.612</td>\n",
              "      <td>194.32</td>\n",
              "      <td>-0.0055985</td>\n",
              "      <td>0.013244</td>\n",
              "    </tr>\n",
              "    <tr>\n",
              "      <th>2018-07-01</th>\n",
              "      <td>45.861</td>\n",
              "      <td>172.58</td>\n",
              "      <td>0.027983</td>\n",
              "      <td>-0.11188</td>\n",
              "    </tr>\n",
              "    <tr>\n",
              "      <th>2018-08-01</th>\n",
              "      <td>54.86</td>\n",
              "      <td>175.73</td>\n",
              "      <td>0.19623</td>\n",
              "      <td>0.018252</td>\n",
              "    </tr>\n",
              "    <tr>\n",
              "      <th>2018-09-01</th>\n",
              "      <td>54.595</td>\n",
              "      <td>164.46</td>\n",
              "      <td>-0.004825</td>\n",
              "      <td>-0.064132</td>\n",
              "    </tr>\n",
              "    <tr>\n",
              "      <th>2018-10-01</th>\n",
              "      <td>52.931</td>\n",
              "      <td>151.79</td>\n",
              "      <td>-0.030478</td>\n",
              "      <td>-0.07704</td>\n",
              "    </tr>\n",
              "    <tr>\n",
              "      <th>2018-11-01</th>\n",
              "      <td>43.19</td>\n",
              "      <td>140.61</td>\n",
              "      <td>-0.18404</td>\n",
              "      <td>-0.073654</td>\n",
              "    </tr>\n",
              "    <tr>\n",
              "      <th>2018-12-01</th>\n",
              "      <td>38.283</td>\n",
              "      <td>131.09</td>\n",
              "      <td>-0.11362</td>\n",
              "      <td>-0.067705</td>\n",
              "    </tr>\n",
              "    <tr>\n",
              "      <th>2019-01-01</th>\n",
              "      <td>40.394</td>\n",
              "      <td>166.69</td>\n",
              "      <td>0.055154</td>\n",
              "      <td>0.27157</td>\n",
              "    </tr>\n",
              "    <tr>\n",
              "      <th>2019-02-01</th>\n",
              "      <td>42.023</td>\n",
              "      <td>161.45</td>\n",
              "      <td>0.040315</td>\n",
              "      <td>-0.031436</td>\n",
              "    </tr>\n",
              "    <tr>\n",
              "      <th>2019-03-01</th>\n",
              "      <td>46.298</td>\n",
              "      <td>166.69</td>\n",
              "      <td>0.10173</td>\n",
              "      <td>0.032456</td>\n",
              "    </tr>\n",
              "    <tr>\n",
              "      <th>2019-04-01</th>\n",
              "      <td>48.91</td>\n",
              "      <td>193.4</td>\n",
              "      <td>0.056436</td>\n",
              "      <td>0.16024</td>\n",
              "    </tr>\n",
              "    <tr>\n",
              "      <th>2019-05-01</th>\n",
              "      <td>42.671</td>\n",
              "      <td>177.47</td>\n",
              "      <td>-0.12757</td>\n",
              "      <td>-0.082368</td>\n",
              "    </tr>\n",
              "    <tr>\n",
              "      <th>2019-06-01</th>\n",
              "      <td>48.426</td>\n",
              "      <td>193.0</td>\n",
              "      <td>0.13487</td>\n",
              "      <td>0.087508</td>\n",
              "    </tr>\n",
              "    <tr>\n",
              "      <th>2019-07-01</th>\n",
              "      <td>52.125</td>\n",
              "      <td>194.23</td>\n",
              "      <td>0.076394</td>\n",
              "      <td>0.006373</td>\n",
              "    </tr>\n",
              "    <tr>\n",
              "      <th>2019-08-01</th>\n",
              "      <td>51.073</td>\n",
              "      <td>185.67</td>\n",
              "      <td>-0.020184</td>\n",
              "      <td>-0.044071</td>\n",
              "    </tr>\n",
              "    <tr>\n",
              "      <th>2019-09-01</th>\n",
              "      <td>55.008</td>\n",
              "      <td>178.08</td>\n",
              "      <td>0.077038</td>\n",
              "      <td>-0.040879</td>\n",
              "    </tr>\n",
              "    <tr>\n",
              "      <th>2019-10-01</th>\n",
              "      <td>61.096</td>\n",
              "      <td>191.65</td>\n",
              "      <td>0.11068</td>\n",
              "      <td>0.076202</td>\n",
              "    </tr>\n",
              "    <tr>\n",
              "      <th>2019-11-01</th>\n",
              "      <td>65.638</td>\n",
              "      <td>201.64</td>\n",
              "      <td>0.074329</td>\n",
              "      <td>0.052126</td>\n",
              "    </tr>\n",
              "    <tr>\n",
              "      <th>2019-12-01</th>\n",
              "      <td>72.338</td>\n",
              "      <td>205.25</td>\n",
              "      <td>0.10208</td>\n",
              "      <td>0.017903</td>\n",
              "    </tr>\n",
              "  </tbody>\n",
              "</table>\n",
              "</div>\n",
              "      <button class=\"colab-df-convert\" onclick=\"convertToInteractive('df-851a388d-6377-442c-8c04-14eb641bf3e3')\"\n",
              "              title=\"Convert this dataframe to an interactive table.\"\n",
              "              style=\"display:none;\">\n",
              "        \n",
              "  <svg xmlns=\"http://www.w3.org/2000/svg\" height=\"24px\"viewBox=\"0 0 24 24\"\n",
              "       width=\"24px\">\n",
              "    <path d=\"M0 0h24v24H0V0z\" fill=\"none\"/>\n",
              "    <path d=\"M18.56 5.44l.94 2.06.94-2.06 2.06-.94-2.06-.94-.94-2.06-.94 2.06-2.06.94zm-11 1L8.5 8.5l.94-2.06 2.06-.94-2.06-.94L8.5 2.5l-.94 2.06-2.06.94zm10 10l.94 2.06.94-2.06 2.06-.94-2.06-.94-.94-2.06-.94 2.06-2.06.94z\"/><path d=\"M17.41 7.96l-1.37-1.37c-.4-.4-.92-.59-1.43-.59-.52 0-1.04.2-1.43.59L10.3 9.45l-7.72 7.72c-.78.78-.78 2.05 0 2.83L4 21.41c.39.39.9.59 1.41.59.51 0 1.02-.2 1.41-.59l7.78-7.78 2.81-2.81c.8-.78.8-2.07 0-2.86zM5.41 20L4 18.59l7.72-7.72 1.47 1.35L5.41 20z\"/>\n",
              "  </svg>\n",
              "      </button>\n",
              "      \n",
              "  <style>\n",
              "    .colab-df-container {\n",
              "      display:flex;\n",
              "      flex-wrap:wrap;\n",
              "      gap: 12px;\n",
              "    }\n",
              "\n",
              "    .colab-df-convert {\n",
              "      background-color: #E8F0FE;\n",
              "      border: none;\n",
              "      border-radius: 50%;\n",
              "      cursor: pointer;\n",
              "      display: none;\n",
              "      fill: #1967D2;\n",
              "      height: 32px;\n",
              "      padding: 0 0 0 0;\n",
              "      width: 32px;\n",
              "    }\n",
              "\n",
              "    .colab-df-convert:hover {\n",
              "      background-color: #E2EBFA;\n",
              "      box-shadow: 0px 1px 2px rgba(60, 64, 67, 0.3), 0px 1px 3px 1px rgba(60, 64, 67, 0.15);\n",
              "      fill: #174EA6;\n",
              "    }\n",
              "\n",
              "    [theme=dark] .colab-df-convert {\n",
              "      background-color: #3B4455;\n",
              "      fill: #D2E3FC;\n",
              "    }\n",
              "\n",
              "    [theme=dark] .colab-df-convert:hover {\n",
              "      background-color: #434B5C;\n",
              "      box-shadow: 0px 1px 3px 1px rgba(0, 0, 0, 0.15);\n",
              "      filter: drop-shadow(0px 1px 2px rgba(0, 0, 0, 0.3));\n",
              "      fill: #FFFFFF;\n",
              "    }\n",
              "  </style>\n",
              "\n",
              "      <script>\n",
              "        const buttonEl =\n",
              "          document.querySelector('#df-851a388d-6377-442c-8c04-14eb641bf3e3 button.colab-df-convert');\n",
              "        buttonEl.style.display =\n",
              "          google.colab.kernel.accessAllowed ? 'block' : 'none';\n",
              "\n",
              "        async function convertToInteractive(key) {\n",
              "          const element = document.querySelector('#df-851a388d-6377-442c-8c04-14eb641bf3e3');\n",
              "          const dataTable =\n",
              "            await google.colab.kernel.invokeFunction('convertToInteractive',\n",
              "                                                     [key], {});\n",
              "          if (!dataTable) return;\n",
              "\n",
              "          const docLinkHtml = 'Like what you see? Visit the ' +\n",
              "            '<a target=\"_blank\" href=https://colab.research.google.com/notebooks/data_table.ipynb>data table notebook</a>'\n",
              "            + ' to learn more about interactive tables.';\n",
              "          element.innerHTML = '';\n",
              "          dataTable['output_type'] = 'display_data';\n",
              "          await google.colab.output.renderOutput(dataTable, element);\n",
              "          const docLink = document.createElement('div');\n",
              "          docLink.innerHTML = docLinkHtml;\n",
              "          element.appendChild(docLink);\n",
              "        }\n",
              "      </script>\n",
              "    </div>\n",
              "  </div>\n",
              "  "
            ],
            "text/plain": [
              "             AAPL     FB  AAPL return  FB return\n",
              "Date                                            \n",
              "2018-02-01 42.589 178.32     0.063848  -0.045856\n",
              "2018-03-01 40.281 159.79     -0.05421   -0.10391\n",
              "2018-04-01 39.676  172.0    -0.015019   0.076413\n",
              "2018-05-01 44.864 191.78      0.13076      0.115\n",
              "2018-06-01 44.612 194.32   -0.0055985   0.013244\n",
              "2018-07-01 45.861 172.58     0.027983   -0.11188\n",
              "2018-08-01  54.86 175.73      0.19623   0.018252\n",
              "2018-09-01 54.595 164.46    -0.004825  -0.064132\n",
              "2018-10-01 52.931 151.79    -0.030478   -0.07704\n",
              "2018-11-01  43.19 140.61     -0.18404  -0.073654\n",
              "2018-12-01 38.283 131.09     -0.11362  -0.067705\n",
              "2019-01-01 40.394 166.69     0.055154    0.27157\n",
              "2019-02-01 42.023 161.45     0.040315  -0.031436\n",
              "2019-03-01 46.298 166.69      0.10173   0.032456\n",
              "2019-04-01  48.91  193.4     0.056436    0.16024\n",
              "2019-05-01 42.671 177.47     -0.12757  -0.082368\n",
              "2019-06-01 48.426  193.0      0.13487   0.087508\n",
              "2019-07-01 52.125 194.23     0.076394   0.006373\n",
              "2019-08-01 51.073 185.67    -0.020184  -0.044071\n",
              "2019-09-01 55.008 178.08     0.077038  -0.040879\n",
              "2019-10-01 61.096 191.65      0.11068   0.076202\n",
              "2019-11-01 65.638 201.64     0.074329   0.052126\n",
              "2019-12-01 72.338 205.25      0.10208   0.017903"
            ]
          },
          "metadata": {},
          "execution_count": 178
        }
      ]
    },
    {
      "cell_type": "code",
      "source": [
        "df = df[[\"AAPL return\",\"FB return\"]].dropna()\n",
        "df.corr()"
      ],
      "metadata": {
        "colab": {
          "base_uri": "https://localhost:8080/",
          "height": 112
        },
        "id": "etT431h-K1h7",
        "outputId": "9cc801a3-2392-4641-922a-fba144529116"
      },
      "execution_count": null,
      "outputs": [
        {
          "output_type": "execute_result",
          "data": {
            "text/html": [
              "\n",
              "  <div id=\"df-d5995f94-94ae-495c-86ed-cd896b71d182\">\n",
              "    <div class=\"colab-df-container\">\n",
              "      <div>\n",
              "<style scoped>\n",
              "    .dataframe tbody tr th:only-of-type {\n",
              "        vertical-align: middle;\n",
              "    }\n",
              "\n",
              "    .dataframe tbody tr th {\n",
              "        vertical-align: top;\n",
              "    }\n",
              "\n",
              "    .dataframe thead th {\n",
              "        text-align: right;\n",
              "    }\n",
              "</style>\n",
              "<table border=\"1\" class=\"dataframe\">\n",
              "  <thead>\n",
              "    <tr style=\"text-align: right;\">\n",
              "      <th></th>\n",
              "      <th>AAPL return</th>\n",
              "      <th>FB return</th>\n",
              "    </tr>\n",
              "  </thead>\n",
              "  <tbody>\n",
              "    <tr>\n",
              "      <th>AAPL return</th>\n",
              "      <td>1.0</td>\n",
              "      <td>0.51166</td>\n",
              "    </tr>\n",
              "    <tr>\n",
              "      <th>FB return</th>\n",
              "      <td>0.51166</td>\n",
              "      <td>1.0</td>\n",
              "    </tr>\n",
              "  </tbody>\n",
              "</table>\n",
              "</div>\n",
              "      <button class=\"colab-df-convert\" onclick=\"convertToInteractive('df-d5995f94-94ae-495c-86ed-cd896b71d182')\"\n",
              "              title=\"Convert this dataframe to an interactive table.\"\n",
              "              style=\"display:none;\">\n",
              "        \n",
              "  <svg xmlns=\"http://www.w3.org/2000/svg\" height=\"24px\"viewBox=\"0 0 24 24\"\n",
              "       width=\"24px\">\n",
              "    <path d=\"M0 0h24v24H0V0z\" fill=\"none\"/>\n",
              "    <path d=\"M18.56 5.44l.94 2.06.94-2.06 2.06-.94-2.06-.94-.94-2.06-.94 2.06-2.06.94zm-11 1L8.5 8.5l.94-2.06 2.06-.94-2.06-.94L8.5 2.5l-.94 2.06-2.06.94zm10 10l.94 2.06.94-2.06 2.06-.94-2.06-.94-.94-2.06-.94 2.06-2.06.94z\"/><path d=\"M17.41 7.96l-1.37-1.37c-.4-.4-.92-.59-1.43-.59-.52 0-1.04.2-1.43.59L10.3 9.45l-7.72 7.72c-.78.78-.78 2.05 0 2.83L4 21.41c.39.39.9.59 1.41.59.51 0 1.02-.2 1.41-.59l7.78-7.78 2.81-2.81c.8-.78.8-2.07 0-2.86zM5.41 20L4 18.59l7.72-7.72 1.47 1.35L5.41 20z\"/>\n",
              "  </svg>\n",
              "      </button>\n",
              "      \n",
              "  <style>\n",
              "    .colab-df-container {\n",
              "      display:flex;\n",
              "      flex-wrap:wrap;\n",
              "      gap: 12px;\n",
              "    }\n",
              "\n",
              "    .colab-df-convert {\n",
              "      background-color: #E8F0FE;\n",
              "      border: none;\n",
              "      border-radius: 50%;\n",
              "      cursor: pointer;\n",
              "      display: none;\n",
              "      fill: #1967D2;\n",
              "      height: 32px;\n",
              "      padding: 0 0 0 0;\n",
              "      width: 32px;\n",
              "    }\n",
              "\n",
              "    .colab-df-convert:hover {\n",
              "      background-color: #E2EBFA;\n",
              "      box-shadow: 0px 1px 2px rgba(60, 64, 67, 0.3), 0px 1px 3px 1px rgba(60, 64, 67, 0.15);\n",
              "      fill: #174EA6;\n",
              "    }\n",
              "\n",
              "    [theme=dark] .colab-df-convert {\n",
              "      background-color: #3B4455;\n",
              "      fill: #D2E3FC;\n",
              "    }\n",
              "\n",
              "    [theme=dark] .colab-df-convert:hover {\n",
              "      background-color: #434B5C;\n",
              "      box-shadow: 0px 1px 3px 1px rgba(0, 0, 0, 0.15);\n",
              "      filter: drop-shadow(0px 1px 2px rgba(0, 0, 0, 0.3));\n",
              "      fill: #FFFFFF;\n",
              "    }\n",
              "  </style>\n",
              "\n",
              "      <script>\n",
              "        const buttonEl =\n",
              "          document.querySelector('#df-d5995f94-94ae-495c-86ed-cd896b71d182 button.colab-df-convert');\n",
              "        buttonEl.style.display =\n",
              "          google.colab.kernel.accessAllowed ? 'block' : 'none';\n",
              "\n",
              "        async function convertToInteractive(key) {\n",
              "          const element = document.querySelector('#df-d5995f94-94ae-495c-86ed-cd896b71d182');\n",
              "          const dataTable =\n",
              "            await google.colab.kernel.invokeFunction('convertToInteractive',\n",
              "                                                     [key], {});\n",
              "          if (!dataTable) return;\n",
              "\n",
              "          const docLinkHtml = 'Like what you see? Visit the ' +\n",
              "            '<a target=\"_blank\" href=https://colab.research.google.com/notebooks/data_table.ipynb>data table notebook</a>'\n",
              "            + ' to learn more about interactive tables.';\n",
              "          element.innerHTML = '';\n",
              "          dataTable['output_type'] = 'display_data';\n",
              "          await google.colab.output.renderOutput(dataTable, element);\n",
              "          const docLink = document.createElement('div');\n",
              "          docLink.innerHTML = docLinkHtml;\n",
              "          element.appendChild(docLink);\n",
              "        }\n",
              "      </script>\n",
              "    </div>\n",
              "  </div>\n",
              "  "
            ],
            "text/plain": [
              "             AAPL return  FB return\n",
              "AAPL return          1.0    0.51166\n",
              "FB return        0.51166        1.0"
            ]
          },
          "metadata": {},
          "execution_count": 179
        }
      ]
    },
    {
      "cell_type": "markdown",
      "source": [
        "# Creating Stat-Board\n"
      ],
      "metadata": {
        "id": "saL4MMMZJpjW"
      }
    },
    {
      "cell_type": "code",
      "source": [
        "def stat_board(symbols):\n",
        "  columns = [\n",
        "             \"annualized_mean_return\",\n",
        "             \"annualized_stdv\",\n",
        "             \"sharp_ratio\"\n",
        "  ]\n",
        "  board = pd.DataFrame(index=columns)\n",
        "  for symbol in symbols:\n",
        "    board[symbol] = [\n",
        "                     df[f\"{symbol} return\"].mean() * 12,\n",
        "                     df[f\"{symbol} return\"].std() * np.sqrt(12),\n",
        "                     (df[f\"{symbol} return\"].mean() * 12) / (df[f\"{symbol} return\"].std() * np.sqrt(12))\n",
        "    ]\n",
        "  return board\n",
        "board = stat_board(symbols)\n",
        "board"
      ],
      "metadata": {
        "colab": {
          "base_uri": "https://localhost:8080/",
          "height": 143
        },
        "id": "FxcMngbDXvAV",
        "outputId": "a91eddcd-f15a-422d-9da4-33a79bc6d787"
      },
      "execution_count": null,
      "outputs": [
        {
          "output_type": "execute_result",
          "data": {
            "text/html": [
              "\n",
              "  <div id=\"df-fbf7eaee-c519-4ae9-9ed9-a90e4df9d413\">\n",
              "    <div class=\"colab-df-container\">\n",
              "      <div>\n",
              "<style scoped>\n",
              "    .dataframe tbody tr th:only-of-type {\n",
              "        vertical-align: middle;\n",
              "    }\n",
              "\n",
              "    .dataframe tbody tr th {\n",
              "        vertical-align: top;\n",
              "    }\n",
              "\n",
              "    .dataframe thead th {\n",
              "        text-align: right;\n",
              "    }\n",
              "</style>\n",
              "<table border=\"1\" class=\"dataframe\">\n",
              "  <thead>\n",
              "    <tr style=\"text-align: right;\">\n",
              "      <th></th>\n",
              "      <th>AAPL</th>\n",
              "      <th>FB</th>\n",
              "    </tr>\n",
              "  </thead>\n",
              "  <tbody>\n",
              "    <tr>\n",
              "      <th>annualized_mean_return</th>\n",
              "      <td>0.36121</td>\n",
              "      <td>0.096183</td>\n",
              "    </tr>\n",
              "    <tr>\n",
              "      <th>annualized_stdv</th>\n",
              "      <td>0.31645</td>\n",
              "      <td>0.3236</td>\n",
              "    </tr>\n",
              "    <tr>\n",
              "      <th>sharp_ratio</th>\n",
              "      <td>1.1414</td>\n",
              "      <td>0.29723</td>\n",
              "    </tr>\n",
              "  </tbody>\n",
              "</table>\n",
              "</div>\n",
              "      <button class=\"colab-df-convert\" onclick=\"convertToInteractive('df-fbf7eaee-c519-4ae9-9ed9-a90e4df9d413')\"\n",
              "              title=\"Convert this dataframe to an interactive table.\"\n",
              "              style=\"display:none;\">\n",
              "        \n",
              "  <svg xmlns=\"http://www.w3.org/2000/svg\" height=\"24px\"viewBox=\"0 0 24 24\"\n",
              "       width=\"24px\">\n",
              "    <path d=\"M0 0h24v24H0V0z\" fill=\"none\"/>\n",
              "    <path d=\"M18.56 5.44l.94 2.06.94-2.06 2.06-.94-2.06-.94-.94-2.06-.94 2.06-2.06.94zm-11 1L8.5 8.5l.94-2.06 2.06-.94-2.06-.94L8.5 2.5l-.94 2.06-2.06.94zm10 10l.94 2.06.94-2.06 2.06-.94-2.06-.94-.94-2.06-.94 2.06-2.06.94z\"/><path d=\"M17.41 7.96l-1.37-1.37c-.4-.4-.92-.59-1.43-.59-.52 0-1.04.2-1.43.59L10.3 9.45l-7.72 7.72c-.78.78-.78 2.05 0 2.83L4 21.41c.39.39.9.59 1.41.59.51 0 1.02-.2 1.41-.59l7.78-7.78 2.81-2.81c.8-.78.8-2.07 0-2.86zM5.41 20L4 18.59l7.72-7.72 1.47 1.35L5.41 20z\"/>\n",
              "  </svg>\n",
              "      </button>\n",
              "      \n",
              "  <style>\n",
              "    .colab-df-container {\n",
              "      display:flex;\n",
              "      flex-wrap:wrap;\n",
              "      gap: 12px;\n",
              "    }\n",
              "\n",
              "    .colab-df-convert {\n",
              "      background-color: #E8F0FE;\n",
              "      border: none;\n",
              "      border-radius: 50%;\n",
              "      cursor: pointer;\n",
              "      display: none;\n",
              "      fill: #1967D2;\n",
              "      height: 32px;\n",
              "      padding: 0 0 0 0;\n",
              "      width: 32px;\n",
              "    }\n",
              "\n",
              "    .colab-df-convert:hover {\n",
              "      background-color: #E2EBFA;\n",
              "      box-shadow: 0px 1px 2px rgba(60, 64, 67, 0.3), 0px 1px 3px 1px rgba(60, 64, 67, 0.15);\n",
              "      fill: #174EA6;\n",
              "    }\n",
              "\n",
              "    [theme=dark] .colab-df-convert {\n",
              "      background-color: #3B4455;\n",
              "      fill: #D2E3FC;\n",
              "    }\n",
              "\n",
              "    [theme=dark] .colab-df-convert:hover {\n",
              "      background-color: #434B5C;\n",
              "      box-shadow: 0px 1px 3px 1px rgba(0, 0, 0, 0.15);\n",
              "      filter: drop-shadow(0px 1px 2px rgba(0, 0, 0, 0.3));\n",
              "      fill: #FFFFFF;\n",
              "    }\n",
              "  </style>\n",
              "\n",
              "      <script>\n",
              "        const buttonEl =\n",
              "          document.querySelector('#df-fbf7eaee-c519-4ae9-9ed9-a90e4df9d413 button.colab-df-convert');\n",
              "        buttonEl.style.display =\n",
              "          google.colab.kernel.accessAllowed ? 'block' : 'none';\n",
              "\n",
              "        async function convertToInteractive(key) {\n",
              "          const element = document.querySelector('#df-fbf7eaee-c519-4ae9-9ed9-a90e4df9d413');\n",
              "          const dataTable =\n",
              "            await google.colab.kernel.invokeFunction('convertToInteractive',\n",
              "                                                     [key], {});\n",
              "          if (!dataTable) return;\n",
              "\n",
              "          const docLinkHtml = 'Like what you see? Visit the ' +\n",
              "            '<a target=\"_blank\" href=https://colab.research.google.com/notebooks/data_table.ipynb>data table notebook</a>'\n",
              "            + ' to learn more about interactive tables.';\n",
              "          element.innerHTML = '';\n",
              "          dataTable['output_type'] = 'display_data';\n",
              "          await google.colab.output.renderOutput(dataTable, element);\n",
              "          const docLink = document.createElement('div');\n",
              "          docLink.innerHTML = docLinkHtml;\n",
              "          element.appendChild(docLink);\n",
              "        }\n",
              "      </script>\n",
              "    </div>\n",
              "  </div>\n",
              "  "
            ],
            "text/plain": [
              "                          AAPL       FB\n",
              "annualized_mean_return 0.36121 0.096183\n",
              "annualized_stdv        0.31645   0.3236\n",
              "sharp_ratio             1.1414  0.29723"
            ]
          },
          "metadata": {},
          "execution_count": 180
        }
      ]
    },
    {
      "cell_type": "markdown",
      "source": [
        "# Create Portfolio Board"
      ],
      "metadata": {
        "id": "XRgAxVmilLR9"
      }
    },
    {
      "cell_type": "markdown",
      "source": [
        "![image.png](data:image/png;base64,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)"
      ],
      "metadata": {
        "id": "bjAWFiJiyCbm"
      }
    },
    {
      "cell_type": "code",
      "source": [
        "w = [0.5,0.5]\n",
        "mean = board[symbols[0]].annualized_mean_return * w[0] + board[symbols[1]].annualized_mean_return * w[1]\n",
        "covariance = df[f\"{symbols[0]} return\"].cov(df[f\"{symbols[1]} return\"])\n",
        "\n",
        "std = np.sqrt(\n",
        "    w[0]**2 * board[symbols[0]].annualized_stdv**2 +\n",
        "    w[1]**2 * board[symbols[1]].annualized_stdv**2 +\n",
        "    2 * w[0] * w[1] * covariance\n",
        ")\n",
        "sr = mean / std\n",
        "\n",
        "def portfolio_board(symbols):\n",
        "  print('Portfolio weights:\\n', w)\n",
        "  columns = [\n",
        "             \"portfolio_annualized_mean\",\n",
        "             \"portfolio_annualized_std\",\n",
        "             \"portfolio_sharp_ratio\"\n",
        "  ]\n",
        "  portfolio_board = pd.DataFrame(index=columns)\n",
        "  portfolio_board[\"portfolio stat\"] = [\n",
        "                                       mean,\n",
        "                                       std,\n",
        "                                       sr\n",
        "  ]\n",
        "  print(portfolio_board)\n",
        "\n",
        "portfolio_board(symbols)\n",
        "\n"
      ],
      "metadata": {
        "colab": {
          "base_uri": "https://localhost:8080/"
        },
        "id": "-j1ty6_qlS5X",
        "outputId": "5add0ea0-f101-421d-cf08-a46c0009f218"
      },
      "execution_count": null,
      "outputs": [
        {
          "output_type": "stream",
          "name": "stdout",
          "text": [
            "Portfolio weights:\n",
            " [0.5, 0.5]\n",
            "                           portfolio stat\n",
            "portfolio_annualized_mean         0.22869\n",
            "portfolio_annualized_std          0.23108\n",
            "portfolio_sharp_ratio             0.98968\n"
          ]
        }
      ]
    },
    {
      "cell_type": "markdown",
      "source": [
        "# Example of standard deviation"
      ],
      "metadata": {
        "id": "xNsiUVuWNKl6"
      }
    },
    {
      "cell_type": "code",
      "source": [
        "prices = df[\"FB return\"][:5]\n",
        "prices"
      ],
      "metadata": {
        "colab": {
          "base_uri": "https://localhost:8080/"
        },
        "id": "p3YO6KhVGTWu",
        "outputId": "2cd6d69c-2e66-4ac4-c8bf-4d085720f82f"
      },
      "execution_count": null,
      "outputs": [
        {
          "output_type": "execute_result",
          "data": {
            "text/plain": [
              "Date\n",
              "2018-02-01   -0.045856\n",
              "2018-03-01    -0.10391\n",
              "2018-04-01    0.076413\n",
              "2018-05-01       0.115\n",
              "2018-06-01    0.013244\n",
              "Name: FB return, dtype: float64"
            ]
          },
          "metadata": {},
          "execution_count": 182
        }
      ]
    },
    {
      "cell_type": "code",
      "source": [
        "prices.std()"
      ],
      "metadata": {
        "colab": {
          "base_uri": "https://localhost:8080/"
        },
        "id": "vHzDkZMuNcgV",
        "outputId": "02552dfc-721a-42b4-d635-19cd08aa4568"
      },
      "execution_count": null,
      "outputs": [
        {
          "output_type": "execute_result",
          "data": {
            "text/plain": [
              "0.08879438543994914"
            ]
          },
          "metadata": {},
          "execution_count": 183
        }
      ]
    },
    {
      "cell_type": "markdown",
      "source": [
        "#Calculate by hand"
      ],
      "metadata": {
        "id": "CMSg26DBN48B"
      }
    },
    {
      "cell_type": "code",
      "source": [
        "# sum\n",
        "prices_sum = sum(prices)\n",
        "prices_sum"
      ],
      "metadata": {
        "colab": {
          "base_uri": "https://localhost:8080/"
        },
        "id": "4GiGpirbNrnL",
        "outputId": "6f1db45f-ef17-4802-91ae-1cc96a2c02b0"
      },
      "execution_count": null,
      "outputs": [
        {
          "output_type": "execute_result",
          "data": {
            "text/plain": [
              "0.0548870224997865"
            ]
          },
          "metadata": {},
          "execution_count": 184
        }
      ]
    },
    {
      "cell_type": "code",
      "source": [
        "# find mean\n",
        "mean = prices_sum / 5\n",
        "mean"
      ],
      "metadata": {
        "colab": {
          "base_uri": "https://localhost:8080/"
        },
        "id": "rFYlbkHJNtb_",
        "outputId": "d36a2bb8-fbac-4175-ec1d-500c6e28bb7e"
      },
      "execution_count": null,
      "outputs": [
        {
          "output_type": "execute_result",
          "data": {
            "text/plain": [
              "0.0109774044999573"
            ]
          },
          "metadata": {},
          "execution_count": 185
        }
      ]
    },
    {
      "cell_type": "code",
      "source": [
        "# find deviation from the mean \n",
        "deviation_from_mean = prices - mean\n",
        "deviation_from_mean"
      ],
      "metadata": {
        "colab": {
          "base_uri": "https://localhost:8080/"
        },
        "id": "MmTozsvUOZxr",
        "outputId": "ab1e722e-3244-43d5-fe04-32f821cc8acc"
      },
      "execution_count": null,
      "outputs": [
        {
          "output_type": "execute_result",
          "data": {
            "text/plain": [
              "Date\n",
              "2018-02-01   -0.056833\n",
              "2018-03-01    -0.11489\n",
              "2018-04-01    0.065435\n",
              "2018-05-01     0.10402\n",
              "2018-06-01    0.002267\n",
              "Name: FB return, dtype: float64"
            ]
          },
          "metadata": {},
          "execution_count": 186
        }
      ]
    },
    {
      "cell_type": "code",
      "source": [
        "# square each deviation from the mean \n",
        "deviation_squares = deviation_from_mean ** 2\n",
        "deviation_squares"
      ],
      "metadata": {
        "colab": {
          "base_uri": "https://localhost:8080/"
        },
        "id": "xgSMR9zzPZUy",
        "outputId": "354f8ea2-aa9f-46e6-aa29-6de5364adc69"
      },
      "execution_count": null,
      "outputs": [
        {
          "output_type": "execute_result",
          "data": {
            "text/plain": [
              "Date\n",
              "2018-02-01      0.00323\n",
              "2018-03-01       0.0132\n",
              "2018-04-01    0.0042818\n",
              "2018-05-01     0.010821\n",
              "2018-06-01   5.1392e-06\n",
              "Name: FB return, dtype: float64"
            ]
          },
          "metadata": {},
          "execution_count": 187
        }
      ]
    },
    {
      "cell_type": "code",
      "source": [
        "# find the sum of squares\n",
        "squares_sum = sum(deviation_squares)\n",
        "squares_sum"
      ],
      "metadata": {
        "colab": {
          "base_uri": "https://localhost:8080/"
        },
        "id": "cBHpF84FPmwl",
        "outputId": "c6044128-317a-4879-8f54-ff3b05328116"
      },
      "execution_count": null,
      "outputs": [
        {
          "output_type": "execute_result",
          "data": {
            "text/plain": [
              "0.03153777154263301"
            ]
          },
          "metadata": {},
          "execution_count": 188
        }
      ]
    },
    {
      "cell_type": "code",
      "source": [
        "# find the variance\n",
        "variance = squares_sum / (5-1)\n",
        "variance"
      ],
      "metadata": {
        "colab": {
          "base_uri": "https://localhost:8080/"
        },
        "id": "PYbGESRdQQ7W",
        "outputId": "977f798f-e8f3-42bc-b8f1-cf66c7570efc"
      },
      "execution_count": null,
      "outputs": [
        {
          "output_type": "execute_result",
          "data": {
            "text/plain": [
              "0.007884442885658252"
            ]
          },
          "metadata": {},
          "execution_count": 189
        }
      ]
    },
    {
      "cell_type": "code",
      "source": [
        "# find the square root from the variance\n",
        "stdv = np.sqrt(variance)\n",
        "stdv"
      ],
      "metadata": {
        "colab": {
          "base_uri": "https://localhost:8080/"
        },
        "id": "G7jpRClIQ6dM",
        "outputId": "790a7113-9f82-41ad-bbc8-0abb9d37bc0d"
      },
      "execution_count": null,
      "outputs": [
        {
          "output_type": "execute_result",
          "data": {
            "text/plain": [
              "0.08879438543994914"
            ]
          },
          "metadata": {},
          "execution_count": 190
        }
      ]
    },
    {
      "cell_type": "code",
      "source": [
        ""
      ],
      "metadata": {
        "id": "SMheGgQpRxdA"
      },
      "execution_count": null,
      "outputs": []
    }
  ]
}