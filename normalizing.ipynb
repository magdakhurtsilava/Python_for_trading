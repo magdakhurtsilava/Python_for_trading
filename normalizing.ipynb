{
  "nbformat": 4,
  "nbformat_minor": 0,
  "metadata": {
    "colab": {
      "name": "normalizing ",
      "provenance": [],
      "authorship_tag": "ABX9TyONReUyI/PpMhceGmD3PePt",
      "include_colab_link": true
    },
    "kernelspec": {
      "name": "python3",
      "display_name": "Python 3"
    },
    "language_info": {
      "name": "python"
    }
  },
  "cells": [
    {
      "cell_type": "markdown",
      "metadata": {
        "id": "view-in-github",
        "colab_type": "text"
      },
      "source": [
        "<a href=\"https://colab.research.google.com/github/magdakhurtsilava/Python_for_trading-and-collab/blob/main/normalizing.ipynb\" target=\"_parent\"><img src=\"https://colab.research.google.com/assets/colab-badge.svg\" alt=\"Open In Colab\"/></a>"
      ]
    },
    {
      "cell_type": "code",
      "execution_count": 1,
      "metadata": {
        "id": "mSY7aVkGfime"
      },
      "outputs": [],
      "source": [
        "import os\n",
        "import pandas as pd\n",
        "import matplotlib.pyplot as plt\n"
      ]
    },
    {
      "cell_type": "code",
      "source": [
        "def plot_selected(df, columns, start_index, end_index):\n",
        "    \"\"\"Plot the desired columns over index values in the given range.\"\"\"\n",
        "\n",
        "    plot_data(df.loc[start_index:end_index],title='Selected data')"
      ],
      "metadata": {
        "id": "e-us8_-Yfsk-"
      },
      "execution_count": 4,
      "outputs": []
    },
    {
      "cell_type": "code",
      "source": [
        "def symbol_to_path(symbol, base_dir='data'):\n",
        "    \"\"\"Return CSV file path given ticker symbol.\"\"\"\n",
        "    return os.path.join(base_dir, f'{str(symbol)}.csv')"
      ],
      "metadata": {
        "id": "5dC5e-qjf6Uo"
      },
      "execution_count": 5,
      "outputs": []
    },
    {
      "cell_type": "code",
      "source": [
        "def get_data(symbols, dates):\n",
        "    \"\"\"Read stock data (adjusted close) for given symbols from CSV files.\"\"\"\n",
        "    df = pd.DataFrame(index=dates)\n",
        "    if 'SPY' not in symbols: # add SPY for reference, if absent\n",
        "        symbols.insert(0, 'SPY')"
      ],
      "metadata": {
        "id": "oql1ejCJf9lI"
      },
      "execution_count": 6,
      "outputs": []
    },
    {
      "cell_type": "code",
      "source": [
        "    for symbol in symbols:\n",
        "        df_temp = pd.read_csv(symbol_to_path(symbol),\n",
        "        index_col='Date',\n",
        "                parse_dates=True, usecols=['Date', 'Adj Close'],\n",
        "                na_values=['nan'])\n",
        "        df_temp = df_temp.rename(columns={'Adj Close': symbol})\n",
        "        df = df.join(df_temp)\n",
        "        if symbol == 'SPY': # drop dates SPY did not trade\n",
        "            df = df.dropna(subset=['SPY'])"
      ],
      "metadata": {
        "id": "GA_MELrLgBlo"
      },
      "execution_count": null,
      "outputs": []
    },
    {
      "cell_type": "code",
      "source": [
        "    return df"
      ],
      "metadata": {
        "id": "uejQVhjxgxoA"
      },
      "execution_count": null,
      "outputs": []
    },
    {
      "cell_type": "code",
      "source": [
        "def normalize_data(df):\n",
        "    \"\"\"Normalize stock prices using the first row of the dataframe.\"\"\"\n",
        "    return df / df.iloc[0,:]"
      ],
      "metadata": {
        "id": "2dIV1ezVg1-9"
      },
      "execution_count": 12,
      "outputs": []
    },
    {
      "cell_type": "code",
      "source": [
        "def plot_data(df, title='Stock prices'):\n",
        "    \"\"\"Plot stock prices with a custum title and meaningful axis labels.\"\"\"\n",
        "    ax = df.plot(title=title, fontsize=12)\n",
        "    ax.set_xlabel('Date')\n",
        "    ax.set_ylabel('Price')\n",
        "    plt.savefig('graphs/normalized.png')"
      ],
      "metadata": {
        "id": "X1QUlWipg4B4"
      },
      "execution_count": 13,
      "outputs": []
    },
    {
      "cell_type": "code",
      "source": [
        "def main():\n",
        "    # Define a date range\n",
        "    dates = pd.date_range('2020-01-01', '2020-12-31')"
      ],
      "metadata": {
        "id": "zaWE2b6Kg8MT"
      },
      "execution_count": 14,
      "outputs": []
    }
  ]
}