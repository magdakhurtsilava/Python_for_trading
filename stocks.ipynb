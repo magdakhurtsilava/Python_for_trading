{
  "nbformat": 4,
  "nbformat_minor": 0,
  "metadata": {
    "colab": {
      "name": "stocks ",
      "provenance": [],
      "include_colab_link": true
    },
    "kernelspec": {
      "name": "python3",
      "display_name": "Python 3"
    },
    "language_info": {
      "name": "python"
    }
  },
  "cells": [
    {
      "cell_type": "markdown",
      "metadata": {
        "id": "view-in-github",
        "colab_type": "text"
      },
      "source": [
        "<a href=\"https://colab.research.google.com/github/magdakhurtsilava/Python_for_trading-and-collab/blob/main/stocks.ipynb\" target=\"_parent\"><img src=\"https://colab.research.google.com/assets/colab-badge.svg\" alt=\"Open In Colab\"/></a>"
      ]
    },
    {
      "cell_type": "code",
      "source": [
        "import pandas as pd\n"
      ],
      "metadata": {
        "id": "y6KPoahmdVXq"
      },
      "execution_count": null,
      "outputs": []
    },
    {
      "cell_type": "code",
      "source": [
        "\n",
        "def main():\n",
        "    start_date = '2021-01-22'\n",
        "    end_date = '2021-01-26'\n",
        "    dates = pd.date_range(start_date, end_date)\n",
        "    df1 = pd.DataFrame(index=dates)\n",
        "    dfSPY = pd.read_csv(\n",
        "        'data/SPY.csv', index_col='Date', parse_dates=True,\n",
        "        usecols=['Date','Adj Close'], na_values=['nan']\n",
        "\n",
        "         )\n",
        "    dfSPY = dfSPY.rename(columns={'Adj Close': 'SPY'})\n",
        "    df1 = df1.join(dfSPY, how='inner')\n"
      ],
      "metadata": {
        "id": "f_Vl3F2bdcBu"
      },
      "execution_count": 2,
      "outputs": []
    },
    {
      "cell_type": "code",
      "source": [
        "from google.colab import drive\n",
        "drive.mount('/content/drive')"
      ],
      "metadata": {
        "id": "XTTs5zMwdqn7"
      },
      "execution_count": null,
      "outputs": []
    }
  ]
}